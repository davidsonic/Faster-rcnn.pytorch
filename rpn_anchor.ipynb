{
 "cells": [
  {
   "cell_type": "code",
   "execution_count": 1,
   "metadata": {},
   "outputs": [],
   "source": [
    "import numpy as np"
   ]
  },
  {
   "cell_type": "code",
   "execution_count": 5,
   "metadata": {},
   "outputs": [],
   "source": [
    "def _whctrs(anchor):\n",
    "    \"\"\"\n",
    "    Return width, height, x center, and y center for an anchor (window).\n",
    "    \"\"\"\n",
    "\n",
    "    w = anchor[2] - anchor[0] + 1\n",
    "    h = anchor[3] - anchor[1] + 1\n",
    "    x_ctr = anchor[0] + 0.5 * (w - 1)\n",
    "    y_ctr = anchor[1] + 0.5 * (h - 1)\n",
    "    return w, h, x_ctr, y_ctr"
   ]
  },
  {
   "cell_type": "code",
   "execution_count": 12,
   "metadata": {},
   "outputs": [],
   "source": [
    "def _mkanchors(ws, hs, x_ctr, y_ctr):\n",
    "    \"\"\"\n",
    "    Given a vector of widths (ws) and heights (hs) around a center\n",
    "    (x_ctr, y_ctr), output a set of anchors (windows).\n",
    "    \"\"\"\n",
    "\n",
    "    ws = ws[:, np.newaxis]\n",
    "    hs = hs[:, np.newaxis]\n",
    "    anchors = np.hstack((x_ctr - 0.5 * (ws - 1),\n",
    "                         y_ctr - 0.5 * (hs - 1),\n",
    "                         x_ctr + 0.5 * (ws - 1),\n",
    "                         y_ctr + 0.5 * (hs - 1)))\n",
    "    return anchors"
   ]
  },
  {
   "cell_type": "code",
   "execution_count": 15,
   "metadata": {},
   "outputs": [],
   "source": [
    "def _ratio_enum(anchor, ratios):\n",
    "    \"\"\"\n",
    "    Enumerate a set of anchors for each aspect ratio wrt an anchor.\n",
    "    \"\"\"\n",
    "\n",
    "    w, h, x_ctr, y_ctr = _whctrs(anchor)\n",
    "    size = w * h\n",
    "    size_ratios = size / ratios\n",
    "    ws = np.round(np.sqrt(size_ratios))\n",
    "    hs = np.round(ws * ratios)\n",
    "    anchors = _mkanchors(ws, hs, x_ctr, y_ctr)\n",
    "    return anchors"
   ]
  },
  {
   "cell_type": "code",
   "execution_count": 16,
   "metadata": {},
   "outputs": [],
   "source": [
    "def _ratio_enum(anchor, ratios):\n",
    "    \"\"\"\n",
    "    Enumerate a set of anchors for each aspect ratio wrt an anchor.\n",
    "    \"\"\"\n",
    "\n",
    "    w, h, x_ctr, y_ctr = _whctrs(anchor)\n",
    "    size = w * h\n",
    "    size_ratios = size / ratios\n",
    "    ws = np.round(np.sqrt(size_ratios))\n",
    "    hs = np.round(ws * ratios)\n",
    "    anchors = _mkanchors(ws, hs, x_ctr, y_ctr)\n",
    "    return anchors"
   ]
  },
  {
   "cell_type": "code",
   "execution_count": 25,
   "metadata": {},
   "outputs": [],
   "source": [
    "def _scale_enum(anchor, scales):\n",
    "    \"\"\"\n",
    "    Enumerate a set of anchors for each scale wrt an anchor.\n",
    "    \"\"\"\n",
    "\n",
    "    w, h, x_ctr, y_ctr = _whctrs(anchor)\n",
    "    ws = w * scales\n",
    "    hs = h * scales\n",
    "    anchors = _mkanchors(ws, hs, x_ctr, y_ctr)\n",
    "    return anchors"
   ]
  },
  {
   "cell_type": "code",
   "execution_count": 124,
   "metadata": {},
   "outputs": [],
   "source": [
    "def generate_anchors(base_size=16, ratios=[0.5, 1, 2],\n",
    "                     scales=2**np.arange(3, 6)):\n",
    "    \"\"\"\n",
    "    Generate anchor (reference) windows by enumerating aspect ratios X\n",
    "    scales wrt a reference (0, 0, 15, 15) window.\n",
    "    \"\"\"\n",
    "\n",
    "    base_anchor = np.array([1, 1, base_size, base_size]) - 1\n",
    "    ratio_anchors = _ratio_enum(base_anchor, ratios)\n",
    "    anchors = np.vstack([_scale_enum(ratio_anchors[i, :], scales)\n",
    "                         for i in np.arange(ratio_anchors.shape[0])])\n",
    "    return anchors"
   ]
  },
  {
   "cell_type": "code",
   "execution_count": 125,
   "metadata": {},
   "outputs": [],
   "source": [
    "import matplotlib.pyplot as plt\n",
    "import matplotlib.patches as patches"
   ]
  },
  {
   "cell_type": "code",
   "execution_count": 247,
   "metadata": {},
   "outputs": [
    {
     "name": "stdout",
     "output_type": "stream",
     "text": [
      "(-1.0, 0.5) 6.0 3.0\n",
      "(-4.0, -1.0) 12.0 6.0\n",
      "(0.5, 1.25) 3.0 1.5\n",
      "(0.0, 0.0) 4.0 4.0\n",
      "(-2.0, -2.0) 8.0 8.0\n",
      "(1.0, 1.0) 2.0 2.0\n",
      "(0.5, -1.0) 3.0 6.0\n",
      "(-1.0, -4.0) 6.0 12.0\n",
      "(1.25, 0.5) 1.5 3.0\n"
     ]
    },
    {
     "data": {
      "image/png": "[encoded data removed]",
      "text/plain": [
       "<Figure size 720x720 with 1 Axes>"
      ]
     },
     "metadata": {
      "needs_background": "light"
     },
     "output_type": "display_data"
    }
   ],
   "source": [
    "fig = plt.figure(figsize=(10,10))\n",
    "img = np.ones((128,18, 3))\n",
    "plt.imshow(img)\n",
    "axes = plt.gca()\n",
    "plt.xlim([-10,10])\n",
    "plt.ylim([-10,10])\n",
    "anchors = generate_anchors(base_size=4, ratios=np.array([0.5, 1, 2]), scales=np.array([1, 2, 0.5]))\n",
    "for i in range(anchors.shape[0]):\n",
    "    box = anchors[i]\n",
    "    print((box[0], box[1]), box[2] - box[0] + 1, box[3] - box[1] + 1)\n",
    "    patch = patches.Rectangle((box[0], box[1]), box[2] - box[0] + 1, box[3] - box[1] + 1, edgecolor='r', facecolor='none')\n",
    "    axes.add_patch(patch)"
   ]
  },
  {
   "cell_type": "code",
   "execution_count": 251,
   "metadata": {},
   "outputs": [
    {
     "data": {
      "image/png": "[encoded data removed]",
      "text/plain": [
       "<Figure size 720x720 with 1 Axes>"
      ]
     },
     "metadata": {
      "needs_background": "light"
     },
     "output_type": "display_data"
    }
   ],
   "source": [
    "size_X = 16\n",
    "size_Y = 16\n",
    "rpn_stride = 8\n",
    "base_anchors = generate_anchors(base_size=4, ratios=np.array([0.5, 1, 2]), scales=np.array([1, 2, 0.5]))\n",
    "shift_x = np.arange(size_X) * rpn_stride\n",
    "shift_y = np.arange(size_Y) * rpn_stride\n",
    "shift_x, shift_y = np.meshgrid(shift_x, shift_y)\n",
    "shifts = np.vstack((shift_x.ravel(), shift_y.ravel(),\n",
    "                    shift_x.ravel(), shift_y.ravel())).transpose()\n",
    "anchors_num = base_anchors.shape[0]\n",
    "A = anchors_num\n",
    "K = shifts.shape[0]\n",
    "all_anchors = (base_anchors.reshape((1, A, 4)) +\n",
    "               shifts.reshape((1, K, 4)).transpose((1, 0, 2)))\n",
    "all_anchors = all_anchors.reshape((K * A, 4))\n",
    "\n",
    "img = np.ones((128, 128, 3))\n",
    "plt.figure(figsize=(10,10))\n",
    "plt.imshow(img, extent=(0, 128, 128, 0))\n",
    "axs = plt.gca()  \n",
    "for i in range(0, all_anchors.shape[0]):\n",
    "    box = all_anchors[i]\n",
    "    rec = patches.Rectangle((box[0], box[1]), box[2] - box[0] + 1, box[3] - box[1] + 1, edgecolor='r', facecolor='none')\n",
    "    axs.add_patch(rec)\n",
    "\n",
    "plt.show()"
   ]
  },
  {
   "cell_type": "markdown",
   "metadata": {},
   "source": [
    "### second approach"
   ]
  },
  {
   "cell_type": "code",
   "execution_count": 233,
   "metadata": {},
   "outputs": [],
   "source": [
    "size_Y = 16 #feat map size\n",
    "size_X = 16\n",
    "rpn_stride = 8 # downsample size\n",
    "scales = [2,4,8]\n",
    "ratios = [0.5, 1, 2]\n",
    "def anchor_gen(size_X, size_Y, rpn_stride, scales, ratios):\n",
    "    scales, ratios = np.meshgrid(scales, ratios)\n",
    "    scales, ratios = scales.flatten(), ratios.flatten()\n",
    "    scalesY = scales * np.sqrt(ratios)\n",
    "    scalesX = scales / np.sqrt(ratios)\n",
    "    \n",
    "    shiftX = np.arange(0, size_X) * rpn_stride\n",
    "    shiftY = np.arange(0, size_Y) * rpn_stride\n",
    "    shiftX, shiftY = np.meshgrid(shiftX, shiftY)\n",
    "    print(shiftX.shape)\n",
    "    centerX, anchorX = np.meshgrid(shiftX, scalesX)\n",
    "    centerY, anchorY = np.meshgrid(shiftY, scalesY)\n",
    "    print(centerY.shape) # (9, 256)\n",
    "    print(anchorX.shape)\n",
    "    anchor_center = np.stack([centerY, centerX], axis=2).reshape(-1,2)\n",
    "    anchor_size = np.stack([anchorY, anchorX],axis=2).reshape(-1,2)\n",
    "    print(anchor_size.shape)\n",
    "    boxes = np.concatenate([anchor_center-0.5*anchor_size, anchor_center+0.5*anchor_size], axis=1)\n",
    "    return boxes"
   ]
  },
  {
   "cell_type": "code",
   "execution_count": 249,
   "metadata": {},
   "outputs": [
    {
     "name": "stdout",
     "output_type": "stream",
     "text": [
      "(16, 16)\n",
      "(9, 256)\n",
      "(9, 256)\n",
      "(2304, 2)\n"
     ]
    },
    {
     "data": {
      "image/png": "[encoded data removed]",
      "text/plain": [
       "<Figure size 720x720 with 1 Axes>"
      ]
     },
     "metadata": {
      "needs_background": "light"
     },
     "output_type": "display_data"
    }
   ],
   "source": [
    "plt.figure(figsize=(10,10))\n",
    "img = np.ones((128,128, 3))\n",
    "fig = plt.imshow(img)\n",
    "axes = plt.gca()\n",
    "anchors = anchor_gen(size_X, size_Y, rpn_stride, scales, ratios)\n",
    "for i in range(anchors.shape[0]): \n",
    "    box = anchors[i]\n",
    "    patch = axes.add_patch(patches.Rectangle((box[0], box[1]), box[2] - box[0], box[3] - box[1], edgecolor='r', facecolor='none'))"
   ]
  },
  {
   "cell_type": "code",
   "execution_count": null,
   "metadata": {},
   "outputs": [],
   "source": []
  }
 ],
 "metadata": {
  "kernelspec": {
   "display_name": "Python 3",
   "language": "python",
   "name": "python3"
  },
  "language_info": {
   "codemirror_mode": {
    "name": "ipython",
    "version": 3
   },
   "file_extension": ".py",
   "mimetype": "text/x-python",
   "name": "python",
   "nbconvert_exporter": "python",
   "pygments_lexer": "ipython3",
   "version": "3.5.2"
  }
 },
 "nbformat": 4,
 "nbformat_minor": 2
}
